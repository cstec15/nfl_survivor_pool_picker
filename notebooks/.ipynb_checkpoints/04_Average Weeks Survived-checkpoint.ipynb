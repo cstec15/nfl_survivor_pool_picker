{
 "cells": [
  {
   "cell_type": "code",
   "execution_count": 1,
   "id": "108f33d0-20a7-4478-80ee-65670648dc87",
   "metadata": {},
   "outputs": [],
   "source": [
    "import numpy as np\n",
    "import pandas as pd\n",
    "import random\n",
    "import itertools\n",
    "from scipy.optimize import linear_sum_assignment\n",
    "from joblib import Parallel, delayed\n",
    "import time\n",
    "import multiprocessing\n",
    "import sys\n",
    "import os\n",
    "sys.path.append(os.path.abspath(\"../scripts\"))\n",
    "from PickerDefinitions import Picker, BestOddsPicker, MaxOddsPicker, MaxOddsWithDecayPicker, SlidingWindowPicker, TopKOddsPicker"
   ]
  },
  {
   "cell_type": "markdown",
   "id": "b08d0be3-2cf0-4774-a309-496301adee21",
   "metadata": {},
   "source": [
    "# Average Weeks Survived\n",
    "\n",
    "In this notebook I will test the various picking strategies to see the average number of weeks that each one survives across real and simulated seasons. We will do tests on relatively small numbers of simulations as we refine our hyperparameters and test our pickers before running the final strategies on many simulations to get our final results"
   ]
  },
  {
   "cell_type": "code",
   "execution_count": 2,
   "id": "9301466e-a970-407d-879e-1484e22890b5",
   "metadata": {},
   "outputs": [],
   "source": [
    "real_historical_seasons = pd.read_csv(\"../data/cleaned_odds.csv\")\n",
    "simulated_nfl_histories = pd.read_csv(\"../data/simulated_nfl_histories\")\n",
    "simulated_upcoming_season = pd.read_csv(\"../data/simulated_upcoming_season\")\n",
    "season_2024 = real_historical_seasons[real_historical_seasons['Season'] == 2024]\n",
    "\n",
    "dfs = {'2024 Season': season_2024,\n",
    "      'Real History': real_historical_seasons,\n",
    "      'Simulated Histories': simulated_nfl_histories,\n",
    "      'Simulations of 2025 Season': simulated_upcoming_season}"
   ]
  },
  {
   "cell_type": "code",
   "execution_count": 3,
   "id": "306165b6-f44b-4aed-8497-3ec1c7a844cc",
   "metadata": {},
   "outputs": [],
   "source": [
    "def evaluate_picker_over_history(picker_class, historical_data, **kwargs):\n",
    "    \"\"\"\n",
    "    Evaluates a picker’s performance over multiple seasons of historical data.\n",
    "\n",
    "    Parameters:\n",
    "        picker_class (class): A picker class implementing make_season_picks() and evaluate_performance().\n",
    "        historical_data (pd.DataFrame): DataFrame containing a 'Season' column and other required game data.\n",
    "        **kwargs: Additional keyword arguments passed to the picker class constructor.\n",
    "\n",
    "    Returns:\n",
    "        float: The average number of weeks survived across all seasons (rounded to 3 decimal places).\n",
    "    \"\"\"\n",
    "    seasons = sorted(np.unique(historical_data['Season']))\n",
    "    num_weeks_made_per_season = {}\n",
    "    for s in seasons:\n",
    "        this_season = historical_data[historical_data['Season'] == s]\n",
    "        this_picker = picker_class(this_season, **kwargs)\n",
    "        this_picker.make_season_picks()\n",
    "        num_weeks_made = this_picker.evaluate_performance()\n",
    "        num_weeks_made_per_season[s] = num_weeks_made\n",
    "    #print(num_weeks_made_per_season)\n",
    "    return np.round(np.mean(list(num_weeks_made_per_season.values())), 3)\n",
    "\n",
    "def EvaluateAverageWeeksSurvived(picker_class, df_names_to_df_dict, **kwargs):\n",
    "    \"\"\"\n",
    "    Evaluates average weeks survived by a picker across multiple datasets.\n",
    "\n",
    "    Parameters:\n",
    "        picker_class (class): The picker class to be tested.\n",
    "        df_names_to_df_dict (dict): Dictionary mapping dataset names to their corresponding DataFrames.\n",
    "        **kwargs: Additional keyword arguments passed to the picker evaluation function.\n",
    "\n",
    "    Returns:\n",
    "        dict: A mapping from dataset name to average weeks survived.\n",
    "    \"\"\"\n",
    "    performances_dict = {}\n",
    "    print(picker_class.__name__, 'performance across different test dfs')\n",
    "    for df_name, df in df_names_to_df_dict.items():\n",
    "        perf = evaluate_picker_over_history(picker_class, df, **kwargs)\n",
    "        performances_dict[df_name] = perf\n",
    "        print(f'{df_name}: {perf}')\n",
    "    return performances_dict\n",
    "\n",
    "\n",
    "def test_hyperparameters(picker, hp_names_to_options_dict, dfs=dfs):\n",
    "    \"\"\"\n",
    "    Tests all combinations of specified hyperparameters for a picker across datasets.\n",
    "\n",
    "    Parameters:\n",
    "        picker (class): The picker class to test.\n",
    "        hp_names_to_options_dict (dict): Dictionary mapping hyperparameter names to lists of possible values.\n",
    "        dfs (dict): Dictionary mapping dataset names to DataFrames (defaults to `dfs`).\n",
    "\n",
    "    Returns:\n",
    "        tuple:\n",
    "            - dict: Mapping from hyperparameter combinations (as tuples) to performance dicts.\n",
    "            - dict: Best hyperparameters and performance per dataset.\n",
    "    \"\"\"\n",
    "    combos = []\n",
    "    keys = hp_names_to_options_dict.keys()\n",
    "    values = hp_names_to_options_dict.values()\n",
    "    for combo in itertools.product(*values):\n",
    "        hp_combo = dict(zip(keys, combo))\n",
    "        combos.append(hp_combo)\n",
    "        \n",
    "    performances_across_hps = {}\n",
    "    for hps in combos:\n",
    "        print(hps)\n",
    "        performances = EvaluateAverageWeeksSurvived(picker, dfs, **hps)\n",
    "        performances_across_hps[tuple(hps.values())] = performances\n",
    "        print('')\n",
    "\n",
    "    best_performers = {name: {\"performance\": -float(\"inf\"), \"hyperparameters\": None} for name in dfs.keys()}\n",
    "\n",
    "    for hps, perf_dict in performances_across_hps.items():\n",
    "        for name, perf in perf_dict.items():\n",
    "            if perf > best_performers[name][\"performance\"]:\n",
    "                best_performers[name] = {\n",
    "                    \"performance\": perf,\n",
    "                    \"hyperparameters\": dict(zip(keys, hps))\n",
    "                }\n",
    "\n",
    "    return performances_across_hps, best_performers"
   ]
  },
  {
   "cell_type": "markdown",
   "id": "24f37468-a0a8-4f3e-aed2-13c3010b1589",
   "metadata": {},
   "source": [
    "## Random Picker\n",
    "\n",
    "We will first test our random picker. This will serve as a baseline performance and will also provide randomness in our head to head simulations."
   ]
  },
  {
   "cell_type": "code",
   "execution_count": 4,
   "id": "643098e2-74cb-4eec-84d1-3c83835bba7b",
   "metadata": {},
   "outputs": [
    {
     "name": "stdout",
     "output_type": "stream",
     "text": [
      "Picker performance across different test dfs\n",
      "2024 Season: 0.0\n",
      "Real History: 0.474\n",
      "Simulated Histories: 0.978\n",
      "Simulations of 2025 Season: 1.003\n"
     ]
    },
    {
     "data": {
      "text/plain": [
       "{'2024 Season': 0.0,\n",
       " 'Real History': 0.474,\n",
       " 'Simulated Histories': 0.978,\n",
       " 'Simulations of 2025 Season': 1.003}"
      ]
     },
     "execution_count": 4,
     "metadata": {},
     "output_type": "execute_result"
    }
   ],
   "source": [
    "EvaluateAverageWeeksSurvived(Picker, dfs)"
   ]
  },
  {
   "cell_type": "markdown",
   "id": "4e0781b2-419a-4305-9ae8-45cc56367bfa",
   "metadata": {},
   "source": [
    "Our random picker survives one week on average, and this poor performance it to be expected. We will now test a more intelligent picker that picks the team with the best odds each week out of those that it hasn't picked yet."
   ]
  },
  {
   "cell_type": "markdown",
   "id": "b5f5511a-6a2c-47f0-beea-82b6a9e2f0dd",
   "metadata": {},
   "source": [
    "## Best Odds Picker"
   ]
  },
  {
   "cell_type": "code",
   "execution_count": 5,
   "id": "4be535c7-3357-443c-a050-8ecfcae99368",
   "metadata": {},
   "outputs": [
    {
     "name": "stdout",
     "output_type": "stream",
     "text": [
      "BestOddsPicker performance across different test dfs\n",
      "2024 Season: 0.0\n",
      "Real History: 4.421\n",
      "Simulated Histories: 4.373\n",
      "Simulations of 2025 Season: 3.346\n"
     ]
    },
    {
     "data": {
      "text/plain": [
       "{'2024 Season': 0.0,\n",
       " 'Real History': 4.421,\n",
       " 'Simulated Histories': 4.373,\n",
       " 'Simulations of 2025 Season': 3.346}"
      ]
     },
     "execution_count": 5,
     "metadata": {},
     "output_type": "execute_result"
    }
   ],
   "source": [
    "EvaluateAverageWeeksSurvived(BestOddsPicker, dfs)"
   ]
  },
  {
   "cell_type": "markdown",
   "id": "4ab4b10f-9749-447f-a4c2-3faf1329068b",
   "metadata": {},
   "source": [
    "As expected, picking the best odds each week performs much better than random picking. From here we will look to improve on this basic strategy. "
   ]
  },
  {
   "cell_type": "markdown",
   "id": "42989530-cbf1-4237-b061-01c7a7589794",
   "metadata": {},
   "source": [
    "## TopKOddsPicker"
   ]
  },
  {
   "cell_type": "code",
   "execution_count": 6,
   "id": "560d93f2-c584-4b58-b65b-f1d6b068ea20",
   "metadata": {},
   "outputs": [
    {
     "name": "stdout",
     "output_type": "stream",
     "text": [
      "TopKOddsPicker performance across different test dfs\n",
      "2024 Season: 0.0\n",
      "Real History: 5.316\n",
      "Simulated Histories: 3.517\n",
      "Simulations of 2025 Season: 2.764\n"
     ]
    },
    {
     "data": {
      "text/plain": [
       "{'2024 Season': 0.0,\n",
       " 'Real History': 5.316,\n",
       " 'Simulated Histories': 3.517,\n",
       " 'Simulations of 2025 Season': 2.764}"
      ]
     },
     "execution_count": 6,
     "metadata": {},
     "output_type": "execute_result"
    }
   ],
   "source": [
    "EvaluateAverageWeeksSurvived(TopKOddsPicker, dfs)"
   ]
  },
  {
   "cell_type": "markdown",
   "id": "2e98f397-15a5-42e9-aa87-f9e4aa60cbda",
   "metadata": {},
   "source": [
    "While this picker may perform worse in terms of average weeks survived, my thinking is that it may outperform some other pickers when put head to head as it will avoid picking the same winner that a lot of the others will pick due to randomness, resulting in more outright victories and more winnings. \n",
    "\n",
    "We will test different values of k to determine the value that maximizes survival length "
   ]
  },
  {
   "cell_type": "code",
   "execution_count": 7,
   "id": "842dcbe7-cea0-4c03-8e25-35fb7d518c85",
   "metadata": {},
   "outputs": [
    {
     "name": "stdout",
     "output_type": "stream",
     "text": [
      "{'k': 2}\n",
      "TopKOddsPicker performance across different test dfs\n",
      "2024 Season: 1.0\n",
      "Real History: 3.842\n",
      "Simulated Histories: 3.867\n",
      "Simulations of 2025 Season: 3.036\n",
      "\n",
      "{'k': 3}\n",
      "TopKOddsPicker performance across different test dfs\n",
      "2024 Season: 1.0\n",
      "Real History: 2.895\n",
      "Simulated Histories: 3.471\n",
      "Simulations of 2025 Season: 2.774\n",
      "\n",
      "{'k': 4}\n",
      "TopKOddsPicker performance across different test dfs\n",
      "2024 Season: 0.0\n",
      "Real History: 2.632\n",
      "Simulated Histories: 3.141\n",
      "Simulations of 2025 Season: 2.585\n",
      "\n",
      "{'k': 5}\n",
      "TopKOddsPicker performance across different test dfs\n",
      "2024 Season: 1.0\n",
      "Real History: 2.947\n",
      "Simulated Histories: 2.986\n",
      "Simulations of 2025 Season: 2.442\n",
      "\n"
     ]
    },
    {
     "data": {
      "text/plain": [
       "{'2024 Season': {'performance': 1.0, 'hyperparameters': {'k': 2}},\n",
       " 'Real History': {'performance': 3.842, 'hyperparameters': {'k': 2}},\n",
       " 'Simulated Histories': {'performance': 3.867, 'hyperparameters': {'k': 2}},\n",
       " 'Simulations of 2025 Season': {'performance': 3.036,\n",
       "  'hyperparameters': {'k': 2}}}"
      ]
     },
     "execution_count": 7,
     "metadata": {},
     "output_type": "execute_result"
    }
   ],
   "source": [
    "ks = {'k': [2, 3, 4, 5]}\n",
    "best_hps_dict= {}\n",
    "_, best_ks = test_hyperparameters(TopKOddsPicker, ks, dfs=dfs)\n",
    "best_hps_dict['TopKOddsPicker'] = best_ks\n",
    "best_ks"
   ]
  },
  {
   "cell_type": "markdown",
   "id": "f25964d5-26d2-4e4e-a7c4-499f453a3414",
   "metadata": {},
   "source": [
    "## MaxOdds Picker\n",
    "\n",
    "This picker uses the hungarian algorithm to calculate the order of picks that maximizes the joint probability of 'surviving' the entire season and picks each week based on that order."
   ]
  },
  {
   "cell_type": "code",
   "execution_count": 8,
   "id": "b8cc533f-82d6-4067-81aa-81a1fe32b46c",
   "metadata": {},
   "outputs": [
    {
     "name": "stdout",
     "output_type": "stream",
     "text": [
      "MaxOddsPicker performance across different test dfs\n",
      "2024 Season: 0.0\n",
      "Real History: 4.737\n",
      "Simulated Histories: 4.358\n",
      "Simulations of 2025 Season: 2.906\n"
     ]
    },
    {
     "data": {
      "text/plain": [
       "{'2024 Season': 0.0,\n",
       " 'Real History': 4.737,\n",
       " 'Simulated Histories': 4.358,\n",
       " 'Simulations of 2025 Season': 2.906}"
      ]
     },
     "execution_count": 8,
     "metadata": {},
     "output_type": "execute_result"
    }
   ],
   "source": [
    "EvaluateAverageWeeksSurvived(MaxOddsPicker, dfs)"
   ]
  },
  {
   "cell_type": "markdown",
   "id": "1accc7d4-146a-4cbc-9afa-236067b767ca",
   "metadata": {},
   "source": [
    "## MaxOddsWithDecayPicker\n",
    "\n",
    "We will introduce a decay factor to our MaxOddsPicker. The goal of this is to decrease the value of later weeks, meaning that choosing higher odds in earlier weeks would be favored over later weeks. This is important because, while increasing the probability of surviving the whole season is good, none of that matters if you get out early on and another player in the league is still alive."
   ]
  },
  {
   "cell_type": "markdown",
   "id": "7101685a-3713-4a1f-9426-6b2b29395659",
   "metadata": {},
   "source": [
    "We will test different hyperparameters and choose the best performing decay factor as our default in our class."
   ]
  },
  {
   "cell_type": "code",
   "execution_count": 9,
   "id": "5bc09173-b873-49db-9442-14eba27f4114",
   "metadata": {},
   "outputs": [
    {
     "name": "stdout",
     "output_type": "stream",
     "text": [
      "{'decay_factor': 0.8}\n",
      "MaxOddsWithDecayPicker performance across different test dfs\n",
      "2024 Season: 0.0\n",
      "Real History: 4.737\n",
      "Simulated Histories: 4.358\n",
      "Simulations of 2025 Season: 2.906\n",
      "\n",
      "{'decay_factor': 0.85}\n",
      "MaxOddsWithDecayPicker performance across different test dfs\n",
      "2024 Season: 0.0\n",
      "Real History: 4.737\n",
      "Simulated Histories: 4.358\n",
      "Simulations of 2025 Season: 2.906\n",
      "\n",
      "{'decay_factor': 0.9}\n",
      "MaxOddsWithDecayPicker performance across different test dfs\n",
      "2024 Season: 0.0\n",
      "Real History: 4.737\n",
      "Simulated Histories: 4.358\n",
      "Simulations of 2025 Season: 2.906\n",
      "\n",
      "{'decay_factor': 0.95}\n",
      "MaxOddsWithDecayPicker performance across different test dfs\n",
      "2024 Season: 0.0\n",
      "Real History: 4.737\n",
      "Simulated Histories: 4.358\n",
      "Simulations of 2025 Season: 2.906\n",
      "\n",
      "{'decay_factor': 0.98}\n",
      "MaxOddsWithDecayPicker performance across different test dfs\n",
      "2024 Season: 0.0\n",
      "Real History: 4.737\n",
      "Simulated Histories: 4.358\n",
      "Simulations of 2025 Season: 2.906\n",
      "\n"
     ]
    },
    {
     "data": {
      "text/plain": [
       "{'2024 Season': {'performance': 0.0, 'hyperparameters': {'decay_factor': 0.8}},\n",
       " 'Real History': {'performance': 4.737,\n",
       "  'hyperparameters': {'decay_factor': 0.8}},\n",
       " 'Simulated Histories': {'performance': 4.358,\n",
       "  'hyperparameters': {'decay_factor': 0.8}},\n",
       " 'Simulations of 2025 Season': {'performance': 2.906,\n",
       "  'hyperparameters': {'decay_factor': 0.8}}}"
      ]
     },
     "execution_count": 9,
     "metadata": {},
     "output_type": "execute_result"
    }
   ],
   "source": [
    "decay_factors = {'decay_factor': [0.8, 0.85, 0.9, 0.95, 0.98]}\n",
    "_, best_decay = test_hyperparameters(MaxOddsWithDecayPicker, decay_factors)\n",
    "best_hps_dict['MaxOddsWithDecayPicker'] = best_decay\n",
    "\n",
    "best_decay"
   ]
  },
  {
   "cell_type": "markdown",
   "id": "76bea003-3b49-441e-a839-cb82a8309bfd",
   "metadata": {},
   "source": [
    "## SlidingWindowPicker\n",
    "\n",
    "This picker uses the same underlying method as the prior two Max Odds picker to maximize joint probability of survival, but instead of doing it over the whole season, it maximizes the probability over a predefined window size and chooses the next week based on that. \n",
    "\n",
    "We will test different window size/decay factor combinations to find the pair that maximizes performance."
   ]
  },
  {
   "cell_type": "code",
   "execution_count": 10,
   "id": "bad7caad-148d-4b22-8921-478f69bd8485",
   "metadata": {},
   "outputs": [
    {
     "name": "stdout",
     "output_type": "stream",
     "text": [
      "{'decay_factor': 0.8, 'window_size': 2}\n",
      "SlidingWindowPicker performance across different test dfs\n",
      "2024 Season: 0.0\n",
      "Real History: 3.895\n",
      "Simulated Histories: 4.452\n",
      "Simulations of 2025 Season: 3.312\n",
      "\n",
      "{'decay_factor': 0.8, 'window_size': 3}\n",
      "SlidingWindowPicker performance across different test dfs\n",
      "2024 Season: 1.0\n",
      "Real History: 5.211\n",
      "Simulated Histories: 4.521\n",
      "Simulations of 2025 Season: 3.385\n",
      "\n",
      "{'decay_factor': 0.8, 'window_size': 4}\n",
      "SlidingWindowPicker performance across different test dfs\n",
      "2024 Season: 1.0\n",
      "Real History: 5.211\n",
      "Simulated Histories: 4.531\n",
      "Simulations of 2025 Season: 3.379\n",
      "\n",
      "{'decay_factor': 0.8, 'window_size': 5}\n",
      "SlidingWindowPicker performance across different test dfs\n",
      "2024 Season: 1.0\n",
      "Real History: 5.316\n",
      "Simulated Histories: 4.492\n",
      "Simulations of 2025 Season: 3.381\n",
      "\n",
      "{'decay_factor': 0.8, 'window_size': 6}\n",
      "SlidingWindowPicker performance across different test dfs\n",
      "2024 Season: 1.0\n",
      "Real History: 5.211\n",
      "Simulated Histories: 4.338\n",
      "Simulations of 2025 Season: 3.361\n",
      "\n",
      "{'decay_factor': 0.8, 'window_size': 7}\n",
      "SlidingWindowPicker performance across different test dfs\n",
      "2024 Season: 1.0\n",
      "Real History: 5.0\n",
      "Simulated Histories: 4.249\n",
      "Simulations of 2025 Season: 3.322\n",
      "\n",
      "{'decay_factor': 0.8, 'window_size': 8}\n",
      "SlidingWindowPicker performance across different test dfs\n",
      "2024 Season: 1.0\n",
      "Real History: 4.684\n",
      "Simulated Histories: 4.159\n",
      "Simulations of 2025 Season: 3.281\n",
      "\n",
      "{'decay_factor': 0.8, 'window_size': 9}\n",
      "SlidingWindowPicker performance across different test dfs\n",
      "2024 Season: 1.0\n",
      "Real History: 4.526\n",
      "Simulated Histories: 4.029\n",
      "Simulations of 2025 Season: 3.355\n",
      "\n",
      "{'decay_factor': 0.8, 'window_size': 10}\n",
      "SlidingWindowPicker performance across different test dfs\n",
      "2024 Season: 1.0\n",
      "Real History: 4.158\n",
      "Simulated Histories: 3.876\n",
      "Simulations of 2025 Season: 2.82\n",
      "\n",
      "{'decay_factor': 0.85, 'window_size': 2}\n",
      "SlidingWindowPicker performance across different test dfs\n",
      "2024 Season: 0.0\n",
      "Real History: 3.895\n",
      "Simulated Histories: 4.452\n",
      "Simulations of 2025 Season: 3.312\n",
      "\n",
      "{'decay_factor': 0.85, 'window_size': 3}\n",
      "SlidingWindowPicker performance across different test dfs\n",
      "2024 Season: 0.0\n",
      "Real History: 5.158\n",
      "Simulated Histories: 4.532\n",
      "Simulations of 2025 Season: 3.385\n",
      "\n",
      "{'decay_factor': 0.85, 'window_size': 4}\n",
      "SlidingWindowPicker performance across different test dfs\n",
      "2024 Season: 0.0\n",
      "Real History: 5.158\n",
      "Simulated Histories: 4.541\n",
      "Simulations of 2025 Season: 3.379\n",
      "\n",
      "{'decay_factor': 0.85, 'window_size': 5}\n",
      "SlidingWindowPicker performance across different test dfs\n",
      "2024 Season: 0.0\n",
      "Real History: 5.263\n",
      "Simulated Histories: 4.501\n",
      "Simulations of 2025 Season: 3.381\n",
      "\n",
      "{'decay_factor': 0.85, 'window_size': 6}\n",
      "SlidingWindowPicker performance across different test dfs\n",
      "2024 Season: 0.0\n",
      "Real History: 5.158\n",
      "Simulated Histories: 4.389\n",
      "Simulations of 2025 Season: 3.361\n",
      "\n",
      "{'decay_factor': 0.85, 'window_size': 7}\n",
      "SlidingWindowPicker performance across different test dfs\n",
      "2024 Season: 0.0\n",
      "Real History: 4.947\n",
      "Simulated Histories: 4.288\n",
      "Simulations of 2025 Season: 3.37\n",
      "\n",
      "{'decay_factor': 0.85, 'window_size': 8}\n",
      "SlidingWindowPicker performance across different test dfs\n",
      "2024 Season: 0.0\n",
      "Real History: 4.579\n",
      "Simulated Histories: 4.205\n",
      "Simulations of 2025 Season: 3.304\n",
      "\n",
      "{'decay_factor': 0.85, 'window_size': 9}\n",
      "SlidingWindowPicker performance across different test dfs\n",
      "2024 Season: 0.0\n",
      "Real History: 4.526\n",
      "Simulated Histories: 4.143\n",
      "Simulations of 2025 Season: 3.355\n",
      "\n",
      "{'decay_factor': 0.85, 'window_size': 10}\n",
      "SlidingWindowPicker performance across different test dfs\n",
      "2024 Season: 0.0\n",
      "Real History: 4.421\n",
      "Simulated Histories: 3.967\n",
      "Simulations of 2025 Season: 2.809\n",
      "\n",
      "{'decay_factor': 0.9, 'window_size': 2}\n",
      "SlidingWindowPicker performance across different test dfs\n",
      "2024 Season: 0.0\n",
      "Real History: 3.895\n",
      "Simulated Histories: 4.452\n",
      "Simulations of 2025 Season: 3.36\n",
      "\n",
      "{'decay_factor': 0.9, 'window_size': 3}\n",
      "SlidingWindowPicker performance across different test dfs\n",
      "2024 Season: 0.0\n",
      "Real History: 5.158\n",
      "Simulated Histories: 4.532\n",
      "Simulations of 2025 Season: 3.43\n",
      "\n",
      "{'decay_factor': 0.9, 'window_size': 4}\n",
      "SlidingWindowPicker performance across different test dfs\n",
      "2024 Season: 0.0\n",
      "Real History: 5.158\n",
      "Simulated Histories: 4.541\n",
      "Simulations of 2025 Season: 3.43\n",
      "\n",
      "{'decay_factor': 0.9, 'window_size': 5}\n",
      "SlidingWindowPicker performance across different test dfs\n",
      "2024 Season: 0.0\n",
      "Real History: 5.263\n",
      "Simulated Histories: 4.509\n",
      "Simulations of 2025 Season: 3.43\n",
      "\n",
      "{'decay_factor': 0.9, 'window_size': 6}\n",
      "SlidingWindowPicker performance across different test dfs\n",
      "2024 Season: 0.0\n",
      "Real History: 5.158\n",
      "Simulated Histories: 4.433\n",
      "Simulations of 2025 Season: 3.434\n",
      "\n",
      "{'decay_factor': 0.9, 'window_size': 7}\n",
      "SlidingWindowPicker performance across different test dfs\n",
      "2024 Season: 0.0\n",
      "Real History: 5.316\n",
      "Simulated Histories: 4.387\n",
      "Simulations of 2025 Season: 3.434\n",
      "\n",
      "{'decay_factor': 0.9, 'window_size': 8}\n",
      "SlidingWindowPicker performance across different test dfs\n",
      "2024 Season: 0.0\n",
      "Real History: 5.211\n",
      "Simulated Histories: 4.332\n",
      "Simulations of 2025 Season: 3.304\n",
      "\n",
      "{'decay_factor': 0.9, 'window_size': 9}\n",
      "SlidingWindowPicker performance across different test dfs\n",
      "2024 Season: 0.0\n",
      "Real History: 4.842\n",
      "Simulated Histories: 4.225\n",
      "Simulations of 2025 Season: 3.355\n",
      "\n",
      "{'decay_factor': 0.9, 'window_size': 10}\n",
      "SlidingWindowPicker performance across different test dfs\n",
      "2024 Season: 0.0\n",
      "Real History: 4.737\n",
      "Simulated Histories: 4.157\n",
      "Simulations of 2025 Season: 2.89\n",
      "\n",
      "{'decay_factor': 0.95, 'window_size': 2}\n",
      "SlidingWindowPicker performance across different test dfs\n",
      "2024 Season: 0.0\n",
      "Real History: 3.895\n",
      "Simulated Histories: 4.452\n",
      "Simulations of 2025 Season: 3.36\n",
      "\n",
      "{'decay_factor': 0.95, 'window_size': 3}\n",
      "SlidingWindowPicker performance across different test dfs\n",
      "2024 Season: 0.0\n",
      "Real History: 5.158\n",
      "Simulated Histories: 4.533\n",
      "Simulations of 2025 Season: 3.43\n",
      "\n",
      "{'decay_factor': 0.95, 'window_size': 4}\n",
      "SlidingWindowPicker performance across different test dfs\n",
      "2024 Season: 0.0\n",
      "Real History: 5.158\n",
      "Simulated Histories: 4.556\n",
      "Simulations of 2025 Season: 3.43\n",
      "\n",
      "{'decay_factor': 0.95, 'window_size': 5}\n",
      "SlidingWindowPicker performance across different test dfs\n",
      "2024 Season: 0.0\n",
      "Real History: 5.263\n",
      "Simulated Histories: 4.538\n",
      "Simulations of 2025 Season: 3.43\n",
      "\n",
      "{'decay_factor': 0.95, 'window_size': 6}\n",
      "SlidingWindowPicker performance across different test dfs\n",
      "2024 Season: 0.0\n",
      "Real History: 5.158\n",
      "Simulated Histories: 4.484\n",
      "Simulations of 2025 Season: 3.43\n",
      "\n",
      "{'decay_factor': 0.95, 'window_size': 7}\n",
      "SlidingWindowPicker performance across different test dfs\n",
      "2024 Season: 0.0\n",
      "Real History: 5.211\n",
      "Simulated Histories: 4.492\n",
      "Simulations of 2025 Season: 3.43\n",
      "\n",
      "{'decay_factor': 0.95, 'window_size': 8}\n",
      "SlidingWindowPicker performance across different test dfs\n",
      "2024 Season: 0.0\n",
      "Real History: 5.263\n",
      "Simulated Histories: 4.422\n",
      "Simulations of 2025 Season: 3.362\n",
      "\n",
      "{'decay_factor': 0.95, 'window_size': 9}\n",
      "SlidingWindowPicker performance across different test dfs\n",
      "2024 Season: 0.0\n",
      "Real History: 5.211\n",
      "Simulated Histories: 4.354\n",
      "Simulations of 2025 Season: 3.43\n",
      "\n",
      "{'decay_factor': 0.95, 'window_size': 10}\n",
      "SlidingWindowPicker performance across different test dfs\n",
      "2024 Season: 0.0\n",
      "Real History: 4.789\n",
      "Simulated Histories: 4.322\n",
      "Simulations of 2025 Season: 2.887\n",
      "\n",
      "{'decay_factor': 0.98, 'window_size': 2}\n",
      "SlidingWindowPicker performance across different test dfs\n",
      "2024 Season: 0.0\n",
      "Real History: 3.895\n",
      "Simulated Histories: 4.452\n",
      "Simulations of 2025 Season: 3.36\n",
      "\n",
      "{'decay_factor': 0.98, 'window_size': 3}\n",
      "SlidingWindowPicker performance across different test dfs\n",
      "2024 Season: 0.0\n",
      "Real History: 5.158\n",
      "Simulated Histories: 4.548\n",
      "Simulations of 2025 Season: 3.43\n",
      "\n",
      "{'decay_factor': 0.98, 'window_size': 4}\n",
      "SlidingWindowPicker performance across different test dfs\n",
      "2024 Season: 0.0\n",
      "Real History: 5.158\n",
      "Simulated Histories: 4.556\n",
      "Simulations of 2025 Season: 3.43\n",
      "\n",
      "{'decay_factor': 0.98, 'window_size': 5}\n",
      "SlidingWindowPicker performance across different test dfs\n",
      "2024 Season: 0.0\n",
      "Real History: 5.263\n",
      "Simulated Histories: 4.537\n",
      "Simulations of 2025 Season: 3.43\n",
      "\n",
      "{'decay_factor': 0.98, 'window_size': 6}\n",
      "SlidingWindowPicker performance across different test dfs\n",
      "2024 Season: 0.0\n",
      "Real History: 5.158\n",
      "Simulated Histories: 4.482\n",
      "Simulations of 2025 Season: 3.43\n",
      "\n",
      "{'decay_factor': 0.98, 'window_size': 7}\n",
      "SlidingWindowPicker performance across different test dfs\n",
      "2024 Season: 0.0\n",
      "Real History: 5.211\n",
      "Simulated Histories: 4.494\n",
      "Simulations of 2025 Season: 3.43\n",
      "\n",
      "{'decay_factor': 0.98, 'window_size': 8}\n",
      "SlidingWindowPicker performance across different test dfs\n",
      "2024 Season: 0.0\n",
      "Real History: 5.263\n",
      "Simulated Histories: 4.44\n",
      "Simulations of 2025 Season: 3.43\n",
      "\n",
      "{'decay_factor': 0.98, 'window_size': 9}\n",
      "SlidingWindowPicker performance across different test dfs\n",
      "2024 Season: 0.0\n",
      "Real History: 5.211\n",
      "Simulated Histories: 4.411\n",
      "Simulations of 2025 Season: 3.43\n",
      "\n",
      "{'decay_factor': 0.98, 'window_size': 10}\n",
      "SlidingWindowPicker performance across different test dfs\n",
      "2024 Season: 0.0\n",
      "Real History: 5.263\n",
      "Simulated Histories: 4.416\n",
      "Simulations of 2025 Season: 2.887\n",
      "\n"
     ]
    },
    {
     "data": {
      "text/plain": [
       "{'2024 Season': {'performance': 1.0,\n",
       "  'hyperparameters': {'decay_factor': 0.8, 'window_size': 3}},\n",
       " 'Real History': {'performance': 5.316,\n",
       "  'hyperparameters': {'decay_factor': 0.8, 'window_size': 5}},\n",
       " 'Simulated Histories': {'performance': 4.556,\n",
       "  'hyperparameters': {'decay_factor': 0.95, 'window_size': 4}},\n",
       " 'Simulations of 2025 Season': {'performance': 3.434,\n",
       "  'hyperparameters': {'decay_factor': 0.9, 'window_size': 6}}}"
      ]
     },
     "execution_count": 10,
     "metadata": {},
     "output_type": "execute_result"
    }
   ],
   "source": [
    "hps = {'decay_factor': [0.8, 0.85, 0.9, 0.95, 0.98], 'window_size': [2, 3, 4, 5, 6, 7, 8, 9, 10]}\n",
    "_, best_hps = test_hyperparameters(SlidingWindowPicker, hps)\n",
    "best_hps_dict['SlidingWindowPicker'] = best_hps\n",
    "best_hps"
   ]
  },
  {
   "cell_type": "code",
   "execution_count": 16,
   "id": "c713d253-cb25-4df9-86e4-a5eba449271b",
   "metadata": {},
   "outputs": [],
   "source": [
    "with open(\"../outputs/best_hyperparameters.txt\", \"w\") as f:\n",
    "    f.write(str(best_hps_dict))"
   ]
  },
  {
   "cell_type": "markdown",
   "id": "b134ce99-7c09-4c15-918d-f718b5e3e3da",
   "metadata": {},
   "source": [
    "## Final Results"
   ]
  },
  {
   "cell_type": "code",
   "execution_count": 17,
   "id": "805e7234-b1ac-4548-8aec-2017ae279e75",
   "metadata": {},
   "outputs": [],
   "source": [
    "pickers = [Picker, BestOddsPicker, TopKOddsPicker, MaxOddsPicker, MaxOddsWithDecayPicker, SlidingWindowPicker]\n",
    "performance_comparison_df = []\n",
    "for pkr in pickers:\n",
    "    historical_avg = evaluate_picker_over_history(pkr, simulated_nfl_histories)\n",
    "    row = {'Picker': pkr.__name__, 'Average Number of Weeks Survived': historical_avg}\n",
    "    performance_comparison_df.append(row)\n"
   ]
  },
  {
   "cell_type": "code",
   "execution_count": 25,
   "id": "7a126d69-779e-4a0e-bea9-60a5e428a0b1",
   "metadata": {},
   "outputs": [
    {
     "data": {
      "text/html": [
       "<div>\n",
       "<style scoped>\n",
       "    .dataframe tbody tr th:only-of-type {\n",
       "        vertical-align: middle;\n",
       "    }\n",
       "\n",
       "    .dataframe tbody tr th {\n",
       "        vertical-align: top;\n",
       "    }\n",
       "\n",
       "    .dataframe thead th {\n",
       "        text-align: right;\n",
       "    }\n",
       "</style>\n",
       "<table border=\"1\" class=\"dataframe\">\n",
       "  <thead>\n",
       "    <tr style=\"text-align: right;\">\n",
       "      <th></th>\n",
       "      <th>Picker</th>\n",
       "      <th>Average Number of Weeks Survived</th>\n",
       "    </tr>\n",
       "  </thead>\n",
       "  <tbody>\n",
       "    <tr>\n",
       "      <th>5</th>\n",
       "      <td>SlidingWindowPicker</td>\n",
       "      <td>4.477</td>\n",
       "    </tr>\n",
       "    <tr>\n",
       "      <th>1</th>\n",
       "      <td>BestOddsPicker</td>\n",
       "      <td>4.373</td>\n",
       "    </tr>\n",
       "    <tr>\n",
       "      <th>3</th>\n",
       "      <td>MaxOddsPicker</td>\n",
       "      <td>4.358</td>\n",
       "    </tr>\n",
       "    <tr>\n",
       "      <th>4</th>\n",
       "      <td>MaxOddsWithDecayPicker</td>\n",
       "      <td>4.355</td>\n",
       "    </tr>\n",
       "    <tr>\n",
       "      <th>2</th>\n",
       "      <td>TopKOddsPicker</td>\n",
       "      <td>3.481</td>\n",
       "    </tr>\n",
       "    <tr>\n",
       "      <th>0</th>\n",
       "      <td>Picker</td>\n",
       "      <td>1.005</td>\n",
       "    </tr>\n",
       "  </tbody>\n",
       "</table>\n",
       "</div>"
      ],
      "text/plain": [
       "                   Picker  Average Number of Weeks Survived\n",
       "5     SlidingWindowPicker                             4.477\n",
       "1          BestOddsPicker                             4.373\n",
       "3           MaxOddsPicker                             4.358\n",
       "4  MaxOddsWithDecayPicker                             4.355\n",
       "2          TopKOddsPicker                             3.481\n",
       "0                  Picker                             1.005"
      ]
     },
     "execution_count": 25,
     "metadata": {},
     "output_type": "execute_result"
    }
   ],
   "source": [
    "performance_comparison_df = pd.DataFrame(performance_comparison_df)\n",
    "performance_comparison_df = performance_comparison_df.sort_values(by='Average Number of Weeks Survived', ascending=False)\n",
    "performance_comparison_df"
   ]
  },
  {
   "cell_type": "code",
   "execution_count": 26,
   "id": "add481e8-b015-48b3-ac2b-5eda176e28f9",
   "metadata": {},
   "outputs": [],
   "source": [
    "performance_comparison_df.to_csv(\"../outputs/picker_performance_comparisons\")"
   ]
  },
  {
   "cell_type": "code",
   "execution_count": null,
   "id": "f38ee99d-25df-4d50-84e4-2964892de3de",
   "metadata": {},
   "outputs": [],
   "source": []
  }
 ],
 "metadata": {
  "kernelspec": {
   "display_name": "Python [conda env:base] *",
   "language": "python",
   "name": "conda-base-py"
  },
  "language_info": {
   "codemirror_mode": {
    "name": "ipython",
    "version": 3
   },
   "file_extension": ".py",
   "mimetype": "text/x-python",
   "name": "python",
   "nbconvert_exporter": "python",
   "pygments_lexer": "ipython3",
   "version": "3.12.7"
  }
 },
 "nbformat": 4,
 "nbformat_minor": 5
}
