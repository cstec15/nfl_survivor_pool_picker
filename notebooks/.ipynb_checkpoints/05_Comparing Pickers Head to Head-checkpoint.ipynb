{
 "cells": [
  {
   "cell_type": "markdown",
   "id": "2ff0a7d2-d5c8-4903-9594-a00d2aed9e6f",
   "metadata": {},
   "source": [
    "# Head to Head Performance"
   ]
  },
  {
   "cell_type": "markdown",
   "id": "75937739-4079-4de9-aea4-b1b5a826834d",
   "metadata": {},
   "source": [
    "We have measured each pickers average performance on historic and simulated data, but what  matters the most is not how many weeks you actually survive, just that you beat the other plays in your pools. In this notebook we will pit the pickers against one another and see which performs best, and if there are different situations where one picker may be more advantageous vs another based on opponent strategies or number of players in the league. \n",
    "\n",
    "This notebook is to test these functions in order to use them in the streamlit app."
   ]
  },
  {
   "cell_type": "code",
   "execution_count": 22,
   "id": "7c00700d-e0c8-4a45-9d0e-24cd8ab94bfd",
   "metadata": {},
   "outputs": [],
   "source": [
    "import numpy as np\n",
    "import pandas as pd\n",
    "import random\n",
    "import itertools\n",
    "from scipy.optimize import linear_sum_assignment\n",
    "from collections import defaultdict\n",
    "import sys\n",
    "import os\n",
    "sys.path.append(os.path.abspath(\"../scripts\"))\n",
    "from PickerDefinitions import Picker, BestOddsPicker, MaxOddsPicker, MaxOddsWithDecayPicker, SlidingWindowPicker, TopKOddsPicker"
   ]
  },
  {
   "cell_type": "code",
   "execution_count": 23,
   "id": "3d17ee77-3574-40cd-af68-24fa3005e722",
   "metadata": {},
   "outputs": [],
   "source": [
    "real_historic_data = pd.read_csv(\"../data/cleaned_odds.csv\")\n",
    "simulated_historic_data = pd.read_csv(\"../data/simulated_nfl_histories\")\n",
    "simulated_upcoming_season = pd.read_csv(\"../data/simulated_upcoming_season\")"
   ]
  },
  {
   "cell_type": "code",
   "execution_count": 24,
   "id": "2e36858d-7f56-4a70-8017-a8cc78011e7b",
   "metadata": {},
   "outputs": [],
   "source": [
    "def play_survival_pool_season(players, season_df):\n",
    "    \"\"\"\n",
    "    Simulates a survival pool season for a list of picker strategies.\n",
    "\n",
    "    Parameters:\n",
    "        players (list): List of picker classes (not instances) to evaluate.\n",
    "        season_df (pd.DataFrame): DataFrame containing season data, including weekly games and results.\n",
    "\n",
    "    Returns:\n",
    "        tuple:\n",
    "            - best_players (list): Picker class names that survived the most weeks (can be a tie).\n",
    "            - best_weeks (int): Number of weeks survived by the top performer(s).\n",
    "            - performances (dict): Mapping of picker class names to weeks survived.\n",
    "    \"\"\"\n",
    "    best_weeks = 0\n",
    "    best_players = []\n",
    "    performances = {}\n",
    "    num_each_player = {}\n",
    "    for pkr in players:\n",
    "        \n",
    "        if pkr.__name__ not in num_each_player:\n",
    "            pkr_name = pkr.__name__ + str(1)\n",
    "            num_each_player[pkr.__name__] = 1\n",
    "        else:\n",
    "            pkr_name = pkr.__name__ + str(num_each_player[pkr.__name__] + 1)\n",
    "            num_each_player[pkr.__name__] += 1\n",
    "            \n",
    "        this_pkr = pkr(season_df)\n",
    "        this_pkr.make_season_picks()\n",
    "        performance = this_pkr.evaluate_performance()\n",
    "        if performance == best_weeks:\n",
    "            best_players.append(pkr_name)\n",
    "        elif performance > best_weeks:\n",
    "            best_players = [pkr_name]\n",
    "            best_weeks = performance\n",
    "        performances[pkr_name] = performance\n",
    "\n",
    "    return best_players, best_weeks, performances\n",
    "\n",
    "\n",
    "def count_picker_wins(players, multi_season_df):\n",
    "    \"\"\"\n",
    "    Evaluates picker strategies over multiple seasons and summarizes win statistics.\n",
    "\n",
    "    Parameters:\n",
    "        players (list): List of picker classes to simulate.\n",
    "        multi_season_df (pd.DataFrame): Combined season data with a 'Season' column for grouping.\n",
    "\n",
    "    Returns:\n",
    "        dict:\n",
    "            - 'Wins or Ties': Count of seasons each picker either won or tied for first.\n",
    "            - 'Outright Wins': Count of seasons each picker won outright.\n",
    "            - 'Expected Value Per Season ($1 Pool)': Picker’s expected earnings from a $1 winner(s) take all pool\n",
    "    \"\"\"\n",
    "    win_or_tie_counts = defaultdict(int)\n",
    "    outright_win_counts = defaultdict(int)\n",
    "    expected_value = defaultdict(float) # this will include each strategies expected proportion of the winnings each season. \n",
    "    # If this is greater than 1/num_players, it would be considered a winning strategy\n",
    "\n",
    "    # Group data by season for efficiency\n",
    "    seaon_groups = multi_season_df.groupby('Season')\n",
    "    num_seasons = len(seaon_groups)\n",
    "    for _, season_df in seaon_groups:\n",
    "        best_players, _, _ = play_survival_pool_season(players, season_df)\n",
    "\n",
    "        # Increment win count for each winner (handles ties)\n",
    "        num_winners = len(best_players)\n",
    "        for p in best_players:\n",
    "            win_or_tie_counts[p] += 1\n",
    "            expected_value[p] += 1 / num_winners / num_seasons\n",
    "        if num_winners == 1:\n",
    "            outright_win_counts[best_players[0]] += 1\n",
    "\n",
    "    return {'Wins or Ties': dict(win_or_tie_counts), \n",
    "            'Outright Wins': dict(outright_win_counts), \n",
    "            'Expected Value Per Season ($1 Pool)': dict(expected_value)}\n",
    "\n",
    "def calculate_edge(expected_value_dict):\n",
    "    \"\"\"\n",
    "    Calculates the edge the best picker has over the average expected value.\n",
    "    \n",
    "    Parameters:\n",
    "    -----------\n",
    "    expected_value_dict : dict\n",
    "        Dictionary mapping picker names to their expected value (e.g., {'PickerA': 0.25, 'PickerB': 0.18, ...})\n",
    "    \n",
    "    Returns:\n",
    "    --------\n",
    "    dict with:\n",
    "        - 'best_picker': name of the picker with the highest expected value\n",
    "        - 'best_value': the expected value of the best picker\n",
    "        - 'average_value': average expected value if all pickers were equal (1 / number of pickers)\n",
    "        - 'edge': the difference between the best picker's EV and the average\n",
    "    \"\"\"\n",
    "    num_pickers = len(expected_value_dict)\n",
    "    average_value = 1 / num_pickers\n",
    "    best_picker = max(expected_value_dict, key=expected_value_dict.get)\n",
    "    best_value = expected_value_dict[best_picker]\n",
    "    edge = best_value - average_value\n",
    "\n",
    "    return {\n",
    "        'best_picker': best_picker,\n",
    "        'best_value': best_value,\n",
    "        'average_value': average_value,\n",
    "        'edge': edge\n",
    "    }\n"
   ]
  },
  {
   "cell_type": "code",
   "execution_count": 25,
   "id": "fadf9387-373f-4490-b353-53e3cc906469",
   "metadata": {},
   "outputs": [],
   "source": [
    "all_players = [Picker, BestOddsPicker, TopKOddsPicker, MaxOddsPicker, MaxOddsWithDecayPicker, SlidingWindowPicker]"
   ]
  },
  {
   "cell_type": "code",
   "execution_count": 26,
   "id": "ec7982f6-ffd9-445c-b076-e3f74f1dd24a",
   "metadata": {},
   "outputs": [],
   "source": [
    "dup_players = [Picker, Picker, Picker, TopKOddsPicker, TopKOddsPicker]"
   ]
  },
  {
   "cell_type": "code",
   "execution_count": 27,
   "id": "bf9df477-f94d-47c5-b4b0-fe8fd299c7f6",
   "metadata": {},
   "outputs": [
    {
     "data": {
      "text/plain": [
       "(['SlidingWindowPicker1'],\n",
       " 17,\n",
       " {'Picker1': 1,\n",
       "  'BestOddsPicker1': 12,\n",
       "  'TopKOddsPicker1': 5,\n",
       "  'MaxOddsPicker1': 14,\n",
       "  'MaxOddsWithDecayPicker1': 14,\n",
       "  'SlidingWindowPicker1': 17})"
      ]
     },
     "execution_count": 27,
     "metadata": {},
     "output_type": "execute_result"
    }
   ],
   "source": [
    "# make this similar to the average weeks survived where it tests out in each dataset cleanly and for \n",
    "# different combos of playerse\n",
    "one_season = real_historic_data[real_historic_data['Season'] == 2020]\n",
    "play_survival_pool_season(all_players, one_season)"
   ]
  },
  {
   "cell_type": "code",
   "execution_count": 7,
   "id": "da86027b-1521-485c-882c-3dc6101ea001",
   "metadata": {},
   "outputs": [
    {
     "data": {
      "text/plain": [
       "(['Picker3', 'TopKOddsPicker2'],\n",
       " 2,\n",
       " {'Picker1': 0,\n",
       "  'Picker2': 0,\n",
       "  'Picker3': 2,\n",
       "  'TopKOddsPicker1': 0,\n",
       "  'TopKOddsPicker2': 2})"
      ]
     },
     "execution_count": 7,
     "metadata": {},
     "output_type": "execute_result"
    }
   ],
   "source": [
    "play_survival_pool_season(dup_players, one_season)"
   ]
  },
  {
   "cell_type": "code",
   "execution_count": 8,
   "id": "cb2517c9-632a-48d7-b09d-2563e2303330",
   "metadata": {},
   "outputs": [
    {
     "data": {
      "text/plain": [
       "{'Wins or Ties': {'BestOddsPicker1': 10,\n",
       "  'TopKOddsPicker1': 9,\n",
       "  'MaxOddsPicker1': 10,\n",
       "  'MaxOddsWithDecayPicker1': 10,\n",
       "  'SlidingWindowPicker1': 14,\n",
       "  'Picker1': 2},\n",
       " 'Outright Wins': {'TopKOddsPicker1': 3, 'SlidingWindowPicker1': 2},\n",
       " 'Expected Value Per Season ($1 Pool)': {'BestOddsPicker1': 0.1675438596491228,\n",
       "  'TopKOddsPicker1': 0.22017543859649125,\n",
       "  'MaxOddsPicker1': 0.1456140350877193,\n",
       "  'MaxOddsWithDecayPicker1': 0.1456140350877193,\n",
       "  'SlidingWindowPicker1': 0.30350877192982456,\n",
       "  'Picker1': 0.017543859649122806}}"
      ]
     },
     "execution_count": 8,
     "metadata": {},
     "output_type": "execute_result"
    }
   ],
   "source": [
    "count_picker_wins(all_players, real_historic_data)"
   ]
  },
  {
   "cell_type": "code",
   "execution_count": 9,
   "id": "21ef062b-7025-4ce1-94d2-e56f1bf0ee01",
   "metadata": {},
   "outputs": [
    {
     "data": {
      "text/plain": [
       "{'Wins or Ties': {'TopKOddsPicker1': 13,\n",
       "  'TopKOddsPicker2': 9,\n",
       "  'Picker1': 3,\n",
       "  'Picker3': 2},\n",
       " 'Outright Wins': {'TopKOddsPicker1': 8,\n",
       "  'TopKOddsPicker2': 4,\n",
       "  'Picker1': 1,\n",
       "  'Picker3': 1},\n",
       " 'Expected Value Per Season ($1 Pool)': {'TopKOddsPicker1': 0.5263157894736843,\n",
       "  'TopKOddsPicker2': 0.3157894736842105,\n",
       "  'Picker1': 0.08771929824561403,\n",
       "  'Picker3': 0.07017543859649122}}"
      ]
     },
     "execution_count": 9,
     "metadata": {},
     "output_type": "execute_result"
    }
   ],
   "source": [
    "count_picker_wins(dup_players, real_historic_data)"
   ]
  },
  {
   "cell_type": "code",
   "execution_count": 10,
   "id": "fe071455-53d6-42df-b6f5-980c495912d6",
   "metadata": {},
   "outputs": [
    {
     "data": {
      "text/plain": [
       "{'Wins or Ties': {'BestOddsPicker1': 14, 'SlidingWindowPicker1': 19},\n",
       " 'Outright Wins': {'SlidingWindowPicker1': 5},\n",
       " 'Expected Value Per Season ($1 Pool)': {'BestOddsPicker1': 0.36842105263157887,\n",
       "  'SlidingWindowPicker1': 0.631578947368421}}"
      ]
     },
     "execution_count": 10,
     "metadata": {},
     "output_type": "execute_result"
    }
   ],
   "source": [
    "count_picker_wins([BestOddsPicker, SlidingWindowPicker], real_historic_data)"
   ]
  },
  {
   "cell_type": "markdown",
   "id": "b75432d8-17ed-4c36-a7ca-6c70a99fd786",
   "metadata": {},
   "source": [
    "Looking at Wins or Ties is helpful, but it is difficult to understand how advantageous a picker actually is against others based on it. We we combine these metrics into a single value, Expected Value Per Season ($1 Pool), that measures what portion of the pool you would expect to win when using that strategy against the other strategies. Because the true goal of a surivor pool is to maximize money won, this metric allows us to see which pickers will make you the most money. The catch with using this in practice is that you have to be able to effectively model the strategies that opponents are using. "
   ]
  },
  {
   "cell_type": "code",
   "execution_count": 11,
   "id": "5f9e78ea-2e30-4299-8361-8890a3750cba",
   "metadata": {},
   "outputs": [
    {
     "name": "stdout",
     "output_type": "stream",
     "text": [
      "{'Wins or Ties': {'Picker1': 23, 'BestOddsPicker1': 53, 'TopKOddsPicker1': 45, 'MaxOddsPicker1': 47, 'MaxOddsWithDecayPicker1': 48, 'SlidingWindowPicker1': 56}, 'Outright Wins': {'Picker1': 11, 'BestOddsPicker1': 11, 'TopKOddsPicker1': 21, 'SlidingWindowPicker1': 9}, 'Expected Value Per Season ($1 Pool)': {'Picker1': 0.12046783625730993, 'BestOddsPicker1': 0.20614035087719296, 'TopKOddsPicker1': 0.23625730994152044, 'MaxOddsPicker1': 0.11622807017543862, 'MaxOddsWithDecayPicker1': 0.12061403508771931, 'SlidingWindowPicker1': 0.20029239766081877}}\n"
     ]
    },
    {
     "data": {
      "text/plain": [
       "{'best_picker': 'TopKOddsPicker1',\n",
       " 'best_value': 0.23625730994152044,\n",
       " 'average_value': 0.16666666666666666,\n",
       " 'edge': 0.06959064327485379}"
      ]
     },
     "execution_count": 11,
     "metadata": {},
     "output_type": "execute_result"
    }
   ],
   "source": [
    "performances = count_picker_wins(all_players, simulated_historic_data)\n",
    "print(performances)\n",
    "EV = performances['Expected Value Per Season ($1 Pool)']\n",
    "calculate_edge(EV)"
   ]
  },
  {
   "cell_type": "code",
   "execution_count": 12,
   "id": "d80a0e6f-248e-4669-87f0-10ab0fcb0590",
   "metadata": {},
   "outputs": [
    {
     "name": "stdout",
     "output_type": "stream",
     "text": [
      "{'Wins or Ties': {'Picker1': 18, 'TopKOddsPicker1': 45, 'TopKOddsPicker2': 46, 'Picker3': 15, 'Picker2': 21}, 'Outright Wins': {'Picker3': 8, 'TopKOddsPicker2': 33, 'TopKOddsPicker1': 30, 'Picker2': 12, 'Picker1': 10}, 'Expected Value Per Season ($1 Pool)': {'Picker1': 0.11461988304093568, 'TopKOddsPicker1': 0.3178362573099417, 'TopKOddsPicker2': 0.33684210526315816, 'Picker3': 0.09415204678362574, 'Picker2': 0.13654970760233917}}\n"
     ]
    },
    {
     "data": {
      "text/plain": [
       "{'best_picker': 'TopKOddsPicker2',\n",
       " 'best_value': 0.33684210526315816,\n",
       " 'average_value': 0.2,\n",
       " 'edge': 0.13684210526315815}"
      ]
     },
     "execution_count": 12,
     "metadata": {},
     "output_type": "execute_result"
    }
   ],
   "source": [
    "performances = count_picker_wins(dup_players, simulated_historic_data)\n",
    "print(performances)\n",
    "EV = performances['Expected Value Per Season ($1 Pool)']\n",
    "calculate_edge(EV)"
   ]
  },
  {
   "cell_type": "code",
   "execution_count": 14,
   "id": "cbb4b83d-11fe-4468-a38c-b485bf6334db",
   "metadata": {},
   "outputs": [
    {
     "name": "stdout",
     "output_type": "stream",
     "text": [
      "{'Wins or Ties': {'TopKOddsPicker1': 29, 'BestOddsPicker1': 24, 'MaxOddsPicker1': 23, 'MaxOddsWithDecayPicker1': 32, 'SlidingWindowPicker1': 33, 'Picker1': 9}, 'Outright Wins': {'TopKOddsPicker1': 17, 'Picker1': 5, 'BestOddsPicker1': 10, 'MaxOddsPicker1': 14, 'SlidingWindowPicker1': 16, 'MaxOddsWithDecayPicker1': 12}, 'Expected Value Per Season ($1 Pool)': {'TopKOddsPicker1': 0.21483333333333343, 'BestOddsPicker1': 0.14566666666666667, 'MaxOddsPicker1': 0.16650000000000004, 'MaxOddsWithDecayPicker1': 0.19233333333333338, 'SlidingWindowPicker1': 0.21733333333333338, 'Picker1': 0.06333333333333332}}\n"
     ]
    },
    {
     "data": {
      "text/plain": [
       "{'best_picker': 'SlidingWindowPicker1',\n",
       " 'best_value': 0.21733333333333338,\n",
       " 'average_value': 0.16666666666666666,\n",
       " 'edge': 0.05066666666666672}"
      ]
     },
     "execution_count": 14,
     "metadata": {},
     "output_type": "execute_result"
    }
   ],
   "source": [
    "performances = count_picker_wins(all_players, simulated_upcoming_season)\n",
    "print(performances)\n",
    "EV = performances['Expected Value Per Season ($1 Pool)']\n",
    "calculate_edge(EV)"
   ]
  },
  {
   "cell_type": "code",
   "execution_count": 15,
   "id": "ccec1109-fd00-430a-b30f-75d93d147c0c",
   "metadata": {},
   "outputs": [
    {
     "data": {
      "text/plain": [
       "{'Wins or Ties': {'BestOddsPicker1': 65, 'SlidingWindowPicker1': 81},\n",
       " 'Outright Wins': {'BestOddsPicker1': 19, 'SlidingWindowPicker1': 35},\n",
       " 'Expected Value Per Season ($1 Pool)': {'BestOddsPicker1': 0.42000000000000026,\n",
       "  'SlidingWindowPicker1': 0.5800000000000004}}"
      ]
     },
     "execution_count": 15,
     "metadata": {},
     "output_type": "execute_result"
    }
   ],
   "source": [
    "count_picker_wins([BestOddsPicker, SlidingWindowPicker], simulated_upcoming_season)"
   ]
  },
  {
   "cell_type": "code",
   "execution_count": null,
   "id": "6fc6ead9-11ed-4b7e-9a8c-cdb3297b9497",
   "metadata": {},
   "outputs": [],
   "source": []
  }
 ],
 "metadata": {
  "kernelspec": {
   "display_name": "Python [conda env:base] *",
   "language": "python",
   "name": "conda-base-py"
  },
  "language_info": {
   "codemirror_mode": {
    "name": "ipython",
    "version": 3
   },
   "file_extension": ".py",
   "mimetype": "text/x-python",
   "name": "python",
   "nbconvert_exporter": "python",
   "pygments_lexer": "ipython3",
   "version": "3.12.7"
  }
 },
 "nbformat": 4,
 "nbformat_minor": 5
}
